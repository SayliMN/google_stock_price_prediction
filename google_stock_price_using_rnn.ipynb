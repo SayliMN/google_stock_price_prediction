{
 "cells": [
  {
   "cell_type": "code",
   "execution_count": 1,
   "id": "84b922dd",
   "metadata": {},
   "outputs": [],
   "source": [
    "import numpy as np\n",
    "import pandas as pd\n",
    "import matplotlib.pyplot as plt\n",
    "import os"
   ]
  },
  {
   "cell_type": "code",
   "execution_count": 2,
   "id": "a7ed242b",
   "metadata": {},
   "outputs": [],
   "source": [
    "pd.set_option('display.max_columns', None) \n",
    "pd.set_option('display.max_rows', None)\n",
    "np.set_printoptions(threshold = np.inf)"
   ]
  },
  {
   "cell_type": "markdown",
   "id": "07c8a2be",
   "metadata": {},
   "source": [
    "### 1) Loading data"
   ]
  },
  {
   "cell_type": "code",
   "execution_count": 3,
   "id": "439cdd31",
   "metadata": {},
   "outputs": [],
   "source": [
    "train_data_path = os.getcwd() + \"/data/google_stock_price_Train.csv\""
   ]
  },
  {
   "cell_type": "code",
   "execution_count": 4,
   "id": "060bfd87",
   "metadata": {},
   "outputs": [
    {
     "name": "stdout",
     "output_type": "stream",
     "text": [
      "(1258, 1)\n"
     ]
    }
   ],
   "source": [
    "raw_data_train = pd.read_csv(train_data_path)\n",
    "data_train = raw_data_train.iloc[:,1:2].values #dataframe values to numpy array\n",
    "data_train\n",
    "print(data_train.shape)"
   ]
  },
  {
   "cell_type": "markdown",
   "id": "4f4cb20d",
   "metadata": {},
   "source": [
    "### 2) Feature Scaling using Normalization"
   ]
  },
  {
   "cell_type": "code",
   "execution_count": 5,
   "id": "deb67b24",
   "metadata": {},
   "outputs": [],
   "source": [
    "from sklearn.preprocessing import MinMaxScaler"
   ]
  },
  {
   "cell_type": "code",
   "execution_count": 6,
   "id": "458f6988",
   "metadata": {},
   "outputs": [
    {
     "name": "stdout",
     "output_type": "stream",
     "text": [
      "max of observed values: 816.68\n",
      "min of observed values: 279.12\n"
     ]
    }
   ],
   "source": [
    "sc = MinMaxScaler(feature_range=(0, 1))# create an object of class MinMaxScaler\n",
    "\n",
    "sc.fit(data_train)\n",
    "print(\"max of observed values:\", sc.data_max_[0])\n",
    "print(\"min of observed values:\", sc.data_min_[0])\n"
   ]
  },
  {
   "cell_type": "code",
   "execution_count": 7,
   "id": "640cc036",
   "metadata": {},
   "outputs": [],
   "source": [
    "data_train_scaled = sc.fit_transform(data_train)"
   ]
  },
  {
   "cell_type": "code",
   "execution_count": 8,
   "id": "6192971e",
   "metadata": {
    "scrolled": true
   },
   "outputs": [
    {
     "data": {
      "text/plain": [
       "array([[0.08581368],\n",
       "       [0.09701243],\n",
       "       [0.09433366],\n",
       "       [0.09156187],\n",
       "       [0.07984225],\n",
       "       [0.0643277 ]])"
      ]
     },
     "execution_count": 8,
     "metadata": {},
     "output_type": "execute_result"
    }
   ],
   "source": [
    "data_train_scaled[:6]"
   ]
  },
  {
   "cell_type": "markdown",
   "id": "a8785e46",
   "metadata": {},
   "source": [
    "### 3) Data structure with 60 timesteps and 1 output"
   ]
  },
  {
   "cell_type": "markdown",
   "id": "31125885",
   "metadata": {},
   "source": [
    "#### i. RNN learns from the 60 previous stock price timesteps to find the patterns / trends and based on it's understanding, rnn predicts to predict the next output i.e stock price at time t+1"
   ]
  },
  {
   "cell_type": "code",
   "execution_count": 9,
   "id": "91dffcbc",
   "metadata": {},
   "outputs": [],
   "source": [
    "X_train = [] # 60 previous stock prices for each observation for each financial day\n",
    "y_train = [] # next stock price"
   ]
  },
  {
   "cell_type": "code",
   "execution_count": 10,
   "id": "c6b3f34f",
   "metadata": {},
   "outputs": [],
   "source": [
    "for i in range(60, 1258):\n",
    "    X_train.append(data_train_scaled[i-60:i,0])\n",
    "    y_train.append(data_train_scaled[i,0])\n",
    "    \n",
    "X_train, y_train = np.array(X_train), np.array(y_train)"
   ]
  },
  {
   "cell_type": "code",
   "execution_count": 11,
   "id": "410d5351",
   "metadata": {},
   "outputs": [
    {
     "name": "stdout",
     "output_type": "stream",
     "text": [
      "Training data [[0.08581368 0.09701243 0.09433366 0.09156187 0.07984225 0.0643277\n",
      "  0.0585423  0.06568569 0.06109085 0.06639259 0.0614257  0.07474514\n",
      "  0.02797827 0.02379269 0.02409033 0.0159238  0.01078949 0.00967334\n",
      "  0.01642607 0.02100231 0.02280676 0.02273235 0.02810849 0.03212665\n",
      "  0.0433812  0.04475779 0.04790163 0.0440695  0.04648783 0.04745517\n",
      "  0.04873875 0.03936305 0.04137213 0.04034898 0.04784582 0.04325099\n",
      "  0.04356723 0.04286033 0.04602277 0.05398467 0.05738894 0.05714711\n",
      "  0.05569611 0.04421832 0.04514845 0.04605997 0.04412531 0.03675869\n",
      "  0.04486941 0.05065481 0.05214302 0.05612397 0.05818885 0.06540665\n",
      "  0.06882953 0.07243843 0.07993526 0.07846566 0.08034452 0.08497656]\n",
      " [0.09701243 0.09433366 0.09156187 0.07984225 0.0643277  0.0585423\n",
      "  0.06568569 0.06109085 0.06639259 0.0614257  0.07474514 0.02797827\n",
      "  0.02379269 0.02409033 0.0159238  0.01078949 0.00967334 0.01642607\n",
      "  0.02100231 0.02280676 0.02273235 0.02810849 0.03212665 0.0433812\n",
      "  0.04475779 0.04790163 0.0440695  0.04648783 0.04745517 0.04873875\n",
      "  0.03936305 0.04137213 0.04034898 0.04784582 0.04325099 0.04356723\n",
      "  0.04286033 0.04602277 0.05398467 0.05738894 0.05714711 0.05569611\n",
      "  0.04421832 0.04514845 0.04605997 0.04412531 0.03675869 0.04486941\n",
      "  0.05065481 0.05214302 0.05612397 0.05818885 0.06540665 0.06882953\n",
      "  0.07243843 0.07993526 0.07846566 0.08034452 0.08497656 0.08627874]\n",
      " [0.09433366 0.09156187 0.07984225 0.0643277  0.0585423  0.06568569\n",
      "  0.06109085 0.06639259 0.0614257  0.07474514 0.02797827 0.02379269\n",
      "  0.02409033 0.0159238  0.01078949 0.00967334 0.01642607 0.02100231\n",
      "  0.02280676 0.02273235 0.02810849 0.03212665 0.0433812  0.04475779\n",
      "  0.04790163 0.0440695  0.04648783 0.04745517 0.04873875 0.03936305\n",
      "  0.04137213 0.04034898 0.04784582 0.04325099 0.04356723 0.04286033\n",
      "  0.04602277 0.05398467 0.05738894 0.05714711 0.05569611 0.04421832\n",
      "  0.04514845 0.04605997 0.04412531 0.03675869 0.04486941 0.05065481\n",
      "  0.05214302 0.05612397 0.05818885 0.06540665 0.06882953 0.07243843\n",
      "  0.07993526 0.07846566 0.08034452 0.08497656 0.08627874 0.08471612]]\n",
      "Test data [0.08627874 0.08471612 0.07454052]\n",
      "(1198, 60)\n",
      "(1198,)\n"
     ]
    }
   ],
   "source": [
    "print(\"Training data\", X_train[:3])\n",
    "print(\"Test data\", y_train[:3])\n",
    "print(X_train.shape)\n",
    "print(y_train.shape)"
   ]
  },
  {
   "cell_type": "code",
   "execution_count": 13,
   "id": "8f0df096",
   "metadata": {},
   "outputs": [
    {
     "name": "stdout",
     "output_type": "stream",
     "text": [
      "(1198, 60, 1)\n"
     ]
    }
   ],
   "source": [
    "# 2D to 3D vector ==> (no of entries, no of timesteps, no of indicators/predictors)\n",
    "\n",
    "X_train = np.reshape(X_train, (X_train.shape[0], X_train.shape[1], 1)) \n",
    "print(X_train.shape)"
   ]
  }
 ],
 "metadata": {
  "kernelspec": {
   "display_name": "Python 3 (ipykernel)",
   "language": "python",
   "name": "python3"
  },
  "language_info": {
   "codemirror_mode": {
    "name": "ipython",
    "version": 3
   },
   "file_extension": ".py",
   "mimetype": "text/x-python",
   "name": "python",
   "nbconvert_exporter": "python",
   "pygments_lexer": "ipython3",
   "version": "3.9.6"
  }
 },
 "nbformat": 4,
 "nbformat_minor": 5
}
