{
 "cells": [
  {
   "cell_type": "code",
   "execution_count": 1,
   "id": "84b922dd",
   "metadata": {},
   "outputs": [],
   "source": [
    "import numpy as np\n",
    "import pandas as pd\n",
    "import matplotlib.pyplot as plt\n",
    "import os"
   ]
  },
  {
   "cell_type": "code",
   "execution_count": 2,
   "id": "a7ed242b",
   "metadata": {},
   "outputs": [],
   "source": [
    "pd.set_option('display.max_columns', None) \n",
    "pd.set_option('display.max_rows', None)\n",
    "np.set_printoptions(threshold = np.inf)"
   ]
  },
  {
   "cell_type": "markdown",
   "id": "07c8a2be",
   "metadata": {},
   "source": [
    "### 1) Loading data"
   ]
  },
  {
   "cell_type": "code",
   "execution_count": 3,
   "id": "439cdd31",
   "metadata": {},
   "outputs": [],
   "source": [
    "train_data_path = os.getcwd() + \"/data/google_stock_price_Train.csv\""
   ]
  },
  {
   "cell_type": "code",
   "execution_count": 4,
   "id": "060bfd87",
   "metadata": {},
   "outputs": [
    {
     "name": "stdout",
     "output_type": "stream",
     "text": [
      "(1258, 1)\n"
     ]
    }
   ],
   "source": [
    "raw_data_train = pd.read_csv(train_data_path)\n",
    "data_train = raw_data_train.iloc[:,1:2].values #dataframe values to numpy array\n",
    "data_train\n",
    "print(data_train.shape)"
   ]
  },
  {
   "cell_type": "markdown",
   "id": "4f4cb20d",
   "metadata": {},
   "source": [
    "### 2) Feature Scaling using Normalization"
   ]
  },
  {
   "cell_type": "code",
   "execution_count": 5,
   "id": "deb67b24",
   "metadata": {},
   "outputs": [],
   "source": [
    "from sklearn.preprocessing import MinMaxScaler"
   ]
  },
  {
   "cell_type": "code",
   "execution_count": 6,
   "id": "458f6988",
   "metadata": {},
   "outputs": [
    {
     "name": "stdout",
     "output_type": "stream",
     "text": [
      "max of observed values: 816.68\n",
      "min of observed values: 279.12\n"
     ]
    }
   ],
   "source": [
    "sc = MinMaxScaler(feature_range=(0, 1))# create an object of class MinMaxScaler\n",
    "\n",
    "sc.fit(data_train)\n",
    "print(\"max of observed values:\", sc.data_max_[0])\n",
    "print(\"min of observed values:\", sc.data_min_[0])\n"
   ]
  },
  {
   "cell_type": "code",
   "execution_count": 7,
   "id": "640cc036",
   "metadata": {},
   "outputs": [],
   "source": [
    "data_train_scaled = sc.fit_transform(data_train)"
   ]
  },
  {
   "cell_type": "code",
   "execution_count": 8,
   "id": "6192971e",
   "metadata": {
    "scrolled": true
   },
   "outputs": [
    {
     "data": {
      "text/plain": [
       "array([[0.08581368],\n",
       "       [0.09701243],\n",
       "       [0.09433366],\n",
       "       [0.09156187],\n",
       "       [0.07984225],\n",
       "       [0.0643277 ]])"
      ]
     },
     "execution_count": 8,
     "metadata": {},
     "output_type": "execute_result"
    }
   ],
   "source": [
    "data_train_scaled[:6]"
   ]
  },
  {
   "cell_type": "markdown",
   "id": "be44846e",
   "metadata": {},
   "source": [
    "### 3) Data structure with 60 timesteps and 1 output"
   ]
  },
  {
   "cell_type": "markdown",
   "id": "3ff80b16",
   "metadata": {},
   "source": [
    "#### i. RNN learns from the 60 previous stock price timesteps to find the patterns / trends and based on it's understanding, rnn predicts to predict the next output i.e stock price at time t+1"
   ]
  },
  {
   "cell_type": "code",
   "execution_count": 9,
   "id": "d44425c5",
   "metadata": {},
   "outputs": [],
   "source": [
    "X_train = [] # 60 previous stock prices for each observation for each financial day\n",
    "y_train = [] # next stock price"
   ]
  },
  {
   "cell_type": "code",
   "execution_count": 10,
   "id": "e7075112",
   "metadata": {},
   "outputs": [],
   "source": [
    "for i in range(60, 1258):\n",
    "    X_train.append(data_train_scaled[i-60:i,0])\n",
    "    y_train.append(data_train_scaled[i,0])\n",
    "    \n",
    "X_train, y_train = np.array(X_train), np.array(y_train)"
   ]
  },
  {
   "cell_type": "code",
   "execution_count": 11,
   "id": "0728c996",
   "metadata": {},
   "outputs": [
    {
     "name": "stdout",
     "output_type": "stream",
     "text": [
      "Training data [[0.08581368 0.09701243 0.09433366 0.09156187 0.07984225 0.0643277\n",
      "  0.0585423  0.06568569 0.06109085 0.06639259 0.0614257  0.07474514\n",
      "  0.02797827 0.02379269 0.02409033 0.0159238  0.01078949 0.00967334\n",
      "  0.01642607 0.02100231 0.02280676 0.02273235 0.02810849 0.03212665\n",
      "  0.0433812  0.04475779 0.04790163 0.0440695  0.04648783 0.04745517\n",
      "  0.04873875 0.03936305 0.04137213 0.04034898 0.04784582 0.04325099\n",
      "  0.04356723 0.04286033 0.04602277 0.05398467 0.05738894 0.05714711\n",
      "  0.05569611 0.04421832 0.04514845 0.04605997 0.04412531 0.03675869\n",
      "  0.04486941 0.05065481 0.05214302 0.05612397 0.05818885 0.06540665\n",
      "  0.06882953 0.07243843 0.07993526 0.07846566 0.08034452 0.08497656]\n",
      " [0.09701243 0.09433366 0.09156187 0.07984225 0.0643277  0.0585423\n",
      "  0.06568569 0.06109085 0.06639259 0.0614257  0.07474514 0.02797827\n",
      "  0.02379269 0.02409033 0.0159238  0.01078949 0.00967334 0.01642607\n",
      "  0.02100231 0.02280676 0.02273235 0.02810849 0.03212665 0.0433812\n",
      "  0.04475779 0.04790163 0.0440695  0.04648783 0.04745517 0.04873875\n",
      "  0.03936305 0.04137213 0.04034898 0.04784582 0.04325099 0.04356723\n",
      "  0.04286033 0.04602277 0.05398467 0.05738894 0.05714711 0.05569611\n",
      "  0.04421832 0.04514845 0.04605997 0.04412531 0.03675869 0.04486941\n",
      "  0.05065481 0.05214302 0.05612397 0.05818885 0.06540665 0.06882953\n",
      "  0.07243843 0.07993526 0.07846566 0.08034452 0.08497656 0.08627874]\n",
      " [0.09433366 0.09156187 0.07984225 0.0643277  0.0585423  0.06568569\n",
      "  0.06109085 0.06639259 0.0614257  0.07474514 0.02797827 0.02379269\n",
      "  0.02409033 0.0159238  0.01078949 0.00967334 0.01642607 0.02100231\n",
      "  0.02280676 0.02273235 0.02810849 0.03212665 0.0433812  0.04475779\n",
      "  0.04790163 0.0440695  0.04648783 0.04745517 0.04873875 0.03936305\n",
      "  0.04137213 0.04034898 0.04784582 0.04325099 0.04356723 0.04286033\n",
      "  0.04602277 0.05398467 0.05738894 0.05714711 0.05569611 0.04421832\n",
      "  0.04514845 0.04605997 0.04412531 0.03675869 0.04486941 0.05065481\n",
      "  0.05214302 0.05612397 0.05818885 0.06540665 0.06882953 0.07243843\n",
      "  0.07993526 0.07846566 0.08034452 0.08497656 0.08627874 0.08471612]]\n",
      "Test data [0.08627874 0.08471612 0.07454052]\n",
      "(1198, 60)\n",
      "(1198,)\n"
     ]
    }
   ],
   "source": [
    "print(\"Training data\", X_train[:3])\n",
    "print(\"Test data\", y_train[:3])\n",
    "print(X_train.shape)\n",
    "print(y_train.shape)"
   ]
  },
  {
   "cell_type": "code",
   "execution_count": 13,
   "id": "a9c33b10",
   "metadata": {},
   "outputs": [
    {
     "name": "stdout",
     "output_type": "stream",
     "text": [
      "(1198, 60, 1)\n"
     ]
    }
   ],
   "source": [
    "# 2D to 3D vector ==> (no of entries, no of timesteps, no of indicators/predictors)\n",
    "\n",
    "X_train = np.reshape(X_train, (X_train.shape[0], X_train.shape[1], 1)) \n",
    "print(X_train.shape)"
   ]
  },
  {
   "cell_type": "markdown",
   "id": "340180c0",
   "metadata": {},
   "source": [
    "### 4) Building the RNN - LSTM to predict continuous value"
   ]
  },
  {
   "cell_type": "code",
   "execution_count": 14,
   "id": "a4206d9c",
   "metadata": {},
   "outputs": [
    {
     "name": "stderr",
     "output_type": "stream",
     "text": [
      "2024-01-28 02:02:44.404133: I tensorflow/core/platform/cpu_feature_guard.cc:193] This TensorFlow binary is optimized with oneAPI Deep Neural Network Library (oneDNN) to use the following CPU instructions in performance-critical operations:  AVX2 FMA\n",
      "To enable them in other operations, rebuild TensorFlow with the appropriate compiler flags.\n"
     ]
    }
   ],
   "source": [
    "from keras.models import Sequential\n",
    "from keras.layers import Dense, LSTM, Dropout"
   ]
  },
  {
   "cell_type": "markdown",
   "id": "cf252c83",
   "metadata": {},
   "source": [
    "#### Initializing the RNN"
   ]
  },
  {
   "cell_type": "code",
   "execution_count": 15,
   "id": "833f395c",
   "metadata": {},
   "outputs": [
    {
     "name": "stderr",
     "output_type": "stream",
     "text": [
      "2024-01-28 02:03:13.281076: I tensorflow/core/platform/cpu_feature_guard.cc:193] This TensorFlow binary is optimized with oneAPI Deep Neural Network Library (oneDNN) to use the following CPU instructions in performance-critical operations:  AVX2 FMA\n",
      "To enable them in other operations, rebuild TensorFlow with the appropriate compiler flags.\n"
     ]
    }
   ],
   "source": [
    "regressor = Sequential() "
   ]
  },
  {
   "cell_type": "markdown",
   "id": "a3ae10a6",
   "metadata": {},
   "source": [
    "#### Adding LSTM layers and dropout"
   ]
  },
  {
   "cell_type": "code",
   "execution_count": 16,
   "id": "0bf747b8",
   "metadata": {},
   "outputs": [],
   "source": [
    "# 3D data for LSTM input layer, return_sequences=True as I will be adding more LSTM layer in model\n",
    "# 1st LSTM layer\n",
    "regressor.add(LSTM(units=50, return_sequences=True, input_shape=(X_train.shape[1], 1)))\n",
    "regressor.add(Dropout(.2))\n",
    "\n",
    "# 2nd LSTM layer\n",
    "regressor.add(LSTM(units=50, return_sequences=True))\n",
    "regressor.add(Dropout(.2))\n",
    "\n",
    "# 3rd LSTM layer\n",
    "regressor.add(LSTM(units=50, return_sequences=True))\n",
    "regressor.add(Dropout(.2))\n",
    "\n",
    "# 4th LSTM layer\n",
    "regressor.add(LSTM(units=50, return_sequences=False))\n",
    "regressor.add(Dropout(.2))"
   ]
  },
  {
   "cell_type": "markdown",
   "id": "6114d5be",
   "metadata": {},
   "source": [
    "#### Adding output layer\n",
    "##### Since output is only a single dimension (predicting a stock price at t+1), unit = 1 in output layer"
   ]
  },
  {
   "cell_type": "code",
   "execution_count": 17,
   "id": "2e39608f",
   "metadata": {},
   "outputs": [],
   "source": [
    "regressor.add(Dense(units=1))"
   ]
  },
  {
   "cell_type": "markdown",
   "id": "2a436169",
   "metadata": {},
   "source": [
    "#### Compiling LSTM architecture"
   ]
  },
  {
   "cell_type": "code",
   "execution_count": 18,
   "id": "be71947c",
   "metadata": {},
   "outputs": [],
   "source": [
    "regressor.compile(optimizer=\"adam\", loss=\"mean_squared_error\")"
   ]
  },
  {
   "cell_type": "code",
   "execution_count": 19,
   "id": "eaaad8e2",
   "metadata": {
    "scrolled": true
   },
   "outputs": [
    {
     "name": "stdout",
     "output_type": "stream",
     "text": [
      "Epoch 1/100\n",
      "38/38 [==============================] - 9s 100ms/step - loss: 0.0427\n",
      "Epoch 2/100\n",
      "38/38 [==============================] - 4s 94ms/step - loss: 0.0076\n",
      "Epoch 3/100\n",
      "38/38 [==============================] - 3s 88ms/step - loss: 0.0072\n",
      "Epoch 4/100\n",
      "38/38 [==============================] - 3s 91ms/step - loss: 0.0063\n",
      "Epoch 5/100\n",
      "38/38 [==============================] - 4s 102ms/step - loss: 0.0062\n",
      "Epoch 6/100\n",
      "38/38 [==============================] - 3s 88ms/step - loss: 0.0053\n",
      "Epoch 7/100\n",
      "38/38 [==============================] - 3s 84ms/step - loss: 0.0047\n",
      "Epoch 8/100\n",
      "38/38 [==============================] - 3s 84ms/step - loss: 0.0047\n",
      "Epoch 9/100\n",
      "38/38 [==============================] - 3s 90ms/step - loss: 0.0047\n",
      "Epoch 10/100\n",
      "38/38 [==============================] - 4s 98ms/step - loss: 0.0051\n",
      "Epoch 11/100\n",
      "38/38 [==============================] - 3s 92ms/step - loss: 0.0045\n",
      "Epoch 12/100\n",
      "38/38 [==============================] - 3s 91ms/step - loss: 0.0044\n",
      "Epoch 13/100\n",
      "38/38 [==============================] - 3s 90ms/step - loss: 0.0046\n",
      "Epoch 14/100\n",
      "38/38 [==============================] - 3s 85ms/step - loss: 0.0040\n",
      "Epoch 15/100\n",
      "38/38 [==============================] - 3s 91ms/step - loss: 0.0042\n",
      "Epoch 16/100\n",
      "38/38 [==============================] - 4s 93ms/step - loss: 0.0038\n",
      "Epoch 17/100\n",
      "38/38 [==============================] - 4s 97ms/step - loss: 0.0037\n",
      "Epoch 18/100\n",
      "38/38 [==============================] - 3s 83ms/step - loss: 0.0042\n",
      "Epoch 19/100\n",
      "38/38 [==============================] - 3s 82ms/step - loss: 0.0045\n",
      "Epoch 20/100\n",
      "38/38 [==============================] - 3s 83ms/step - loss: 0.0036\n",
      "Epoch 21/100\n",
      "38/38 [==============================] - 3s 83ms/step - loss: 0.0034\n",
      "Epoch 22/100\n",
      "38/38 [==============================] - 3s 82ms/step - loss: 0.0036\n",
      "Epoch 23/100\n",
      "38/38 [==============================] - 3s 84ms/step - loss: 0.0035\n",
      "Epoch 24/100\n",
      "38/38 [==============================] - 3s 82ms/step - loss: 0.0030\n",
      "Epoch 25/100\n",
      "38/38 [==============================] - 3s 82ms/step - loss: 0.0032\n",
      "Epoch 26/100\n",
      "38/38 [==============================] - 3s 82ms/step - loss: 0.0037\n",
      "Epoch 27/100\n",
      "38/38 [==============================] - 3s 82ms/step - loss: 0.0031\n",
      "Epoch 28/100\n",
      "38/38 [==============================] - 3s 83ms/step - loss: 0.0041\n",
      "Epoch 29/100\n",
      "38/38 [==============================] - 3s 83ms/step - loss: 0.0033\n",
      "Epoch 30/100\n",
      "38/38 [==============================] - 3s 82ms/step - loss: 0.0028\n",
      "Epoch 31/100\n",
      "38/38 [==============================] - 3s 82ms/step - loss: 0.0027\n",
      "Epoch 32/100\n",
      "38/38 [==============================] - 3s 87ms/step - loss: 0.0028\n",
      "Epoch 33/100\n",
      "38/38 [==============================] - 3s 85ms/step - loss: 0.0031\n",
      "Epoch 34/100\n",
      "38/38 [==============================] - 3s 83ms/step - loss: 0.0030\n",
      "Epoch 35/100\n",
      "38/38 [==============================] - 3s 83ms/step - loss: 0.0028\n",
      "Epoch 36/100\n",
      "38/38 [==============================] - 3s 82ms/step - loss: 0.0027\n",
      "Epoch 37/100\n",
      "38/38 [==============================] - 3s 84ms/step - loss: 0.0027\n",
      "Epoch 38/100\n",
      "38/38 [==============================] - 4s 98ms/step - loss: 0.0028\n",
      "Epoch 39/100\n",
      "38/38 [==============================] - 3s 82ms/step - loss: 0.0029\n",
      "Epoch 40/100\n",
      "38/38 [==============================] - 3s 82ms/step - loss: 0.0026\n",
      "Epoch 41/100\n",
      "38/38 [==============================] - 3s 85ms/step - loss: 0.0027\n",
      "Epoch 42/100\n",
      "38/38 [==============================] - 3s 83ms/step - loss: 0.0026\n",
      "Epoch 43/100\n",
      "38/38 [==============================] - 3s 83ms/step - loss: 0.0025\n",
      "Epoch 44/100\n",
      "38/38 [==============================] - 3s 85ms/step - loss: 0.0025\n",
      "Epoch 45/100\n",
      "38/38 [==============================] - 3s 83ms/step - loss: 0.0027\n",
      "Epoch 46/100\n",
      "38/38 [==============================] - 3s 83ms/step - loss: 0.0025\n",
      "Epoch 47/100\n",
      "38/38 [==============================] - 3s 83ms/step - loss: 0.0026\n",
      "Epoch 48/100\n",
      "38/38 [==============================] - 3s 83ms/step - loss: 0.0022\n",
      "Epoch 49/100\n",
      "38/38 [==============================] - 3s 83ms/step - loss: 0.0024\n",
      "Epoch 50/100\n",
      "38/38 [==============================] - 3s 83ms/step - loss: 0.0024\n",
      "Epoch 51/100\n",
      "38/38 [==============================] - 3s 88ms/step - loss: 0.0025\n",
      "Epoch 52/100\n",
      "38/38 [==============================] - 3s 83ms/step - loss: 0.0025\n",
      "Epoch 53/100\n",
      "38/38 [==============================] - 3s 82ms/step - loss: 0.0023\n",
      "Epoch 54/100\n",
      "38/38 [==============================] - 3s 82ms/step - loss: 0.0022\n",
      "Epoch 55/100\n",
      "38/38 [==============================] - 3s 83ms/step - loss: 0.0024\n",
      "Epoch 56/100\n",
      "38/38 [==============================] - 3s 83ms/step - loss: 0.0023\n",
      "Epoch 57/100\n",
      "38/38 [==============================] - 3s 82ms/step - loss: 0.0025\n",
      "Epoch 58/100\n",
      "38/38 [==============================] - 3s 83ms/step - loss: 0.0022\n",
      "Epoch 59/100\n",
      "38/38 [==============================] - 3s 85ms/step - loss: 0.0024\n",
      "Epoch 60/100\n",
      "38/38 [==============================] - 3s 84ms/step - loss: 0.0023\n",
      "Epoch 61/100\n",
      "38/38 [==============================] - 3s 83ms/step - loss: 0.0024\n",
      "Epoch 62/100\n",
      "38/38 [==============================] - 3s 84ms/step - loss: 0.0023\n",
      "Epoch 63/100\n",
      "38/38 [==============================] - 3s 82ms/step - loss: 0.0019\n",
      "Epoch 64/100\n",
      "38/38 [==============================] - 3s 83ms/step - loss: 0.0020\n",
      "Epoch 65/100\n",
      "38/38 [==============================] - 3s 83ms/step - loss: 0.0022\n",
      "Epoch 66/100\n",
      "38/38 [==============================] - 3s 82ms/step - loss: 0.0023\n",
      "Epoch 67/100\n",
      "38/38 [==============================] - 3s 85ms/step - loss: 0.0022\n",
      "Epoch 68/100\n",
      "38/38 [==============================] - 3s 83ms/step - loss: 0.0019\n",
      "Epoch 69/100\n",
      "38/38 [==============================] - 3s 82ms/step - loss: 0.0020\n",
      "Epoch 70/100\n",
      "38/38 [==============================] - 4s 94ms/step - loss: 0.0020\n",
      "Epoch 71/100\n",
      "38/38 [==============================] - 3s 86ms/step - loss: 0.0019\n",
      "Epoch 72/100\n",
      "38/38 [==============================] - 3s 83ms/step - loss: 0.0018\n",
      "Epoch 73/100\n",
      "38/38 [==============================] - 3s 88ms/step - loss: 0.0019\n",
      "Epoch 74/100\n",
      "38/38 [==============================] - 4s 96ms/step - loss: 0.0020\n",
      "Epoch 75/100\n",
      "38/38 [==============================] - 4s 100ms/step - loss: 0.0018\n",
      "Epoch 76/100\n",
      "38/38 [==============================] - 3s 91ms/step - loss: 0.0019\n",
      "Epoch 77/100\n",
      "38/38 [==============================] - 3s 82ms/step - loss: 0.0018\n",
      "Epoch 78/100\n",
      "38/38 [==============================] - 3s 81ms/step - loss: 0.0020\n",
      "Epoch 79/100\n",
      "38/38 [==============================] - 3s 91ms/step - loss: 0.0018\n",
      "Epoch 80/100\n",
      "38/38 [==============================] - 3s 81ms/step - loss: 0.0018\n",
      "Epoch 81/100\n",
      "38/38 [==============================] - 3s 80ms/step - loss: 0.0017\n",
      "Epoch 82/100\n",
      "38/38 [==============================] - 3s 81ms/step - loss: 0.0017\n",
      "Epoch 83/100\n",
      "38/38 [==============================] - 3s 81ms/step - loss: 0.0018\n",
      "Epoch 84/100\n",
      "38/38 [==============================] - 3s 80ms/step - loss: 0.0019\n",
      "Epoch 85/100\n",
      "38/38 [==============================] - 3s 80ms/step - loss: 0.0016\n",
      "Epoch 86/100\n",
      "38/38 [==============================] - 3s 80ms/step - loss: 0.0016\n",
      "Epoch 87/100\n",
      "38/38 [==============================] - 3s 80ms/step - loss: 0.0018\n",
      "Epoch 88/100\n",
      "38/38 [==============================] - 3s 85ms/step - loss: 0.0016\n",
      "Epoch 89/100\n",
      "38/38 [==============================] - 3s 84ms/step - loss: 0.0017\n",
      "Epoch 90/100\n",
      "38/38 [==============================] - 3s 81ms/step - loss: 0.0017\n",
      "Epoch 91/100\n",
      "38/38 [==============================] - 3s 80ms/step - loss: 0.0015\n",
      "Epoch 92/100\n",
      "38/38 [==============================] - 3s 80ms/step - loss: 0.0015\n",
      "Epoch 93/100\n",
      "38/38 [==============================] - 3s 81ms/step - loss: 0.0015\n",
      "Epoch 94/100\n",
      "38/38 [==============================] - 3s 81ms/step - loss: 0.0014\n",
      "Epoch 95/100\n",
      "38/38 [==============================] - 3s 81ms/step - loss: 0.0014\n",
      "Epoch 96/100\n",
      "38/38 [==============================] - 3s 80ms/step - loss: 0.0014\n",
      "Epoch 97/100\n",
      "38/38 [==============================] - 3s 81ms/step - loss: 0.0015\n",
      "Epoch 98/100\n",
      "38/38 [==============================] - 3s 82ms/step - loss: 0.0014\n",
      "Epoch 99/100\n",
      "38/38 [==============================] - 3s 79ms/step - loss: 0.0015\n",
      "Epoch 100/100\n",
      "38/38 [==============================] - 3s 84ms/step - loss: 0.0015\n"
     ]
    },
    {
     "data": {
      "text/plain": [
       "<keras.callbacks.History at 0x12f430100>"
      ]
     },
     "execution_count": 19,
     "metadata": {},
     "output_type": "execute_result"
    }
   ],
   "source": [
    "regressor.fit(X_train, y_train, epochs=100, batch_size=32)"
   ]
  },
  {
   "cell_type": "markdown",
   "id": "b88fb27c",
   "metadata": {},
   "source": [
    "### 5) Predicting stock prices"
   ]
  },
  {
   "cell_type": "markdown",
   "id": "8ae08e17",
   "metadata": {},
   "source": [
    "#### Importing real stock prices of 2017"
   ]
  },
  {
   "cell_type": "code",
   "execution_count": 20,
   "id": "b0d19a49",
   "metadata": {},
   "outputs": [],
   "source": [
    "path_test = os.getcwd() + \"/data/google_stock_price_Test.csv\""
   ]
  },
  {
   "cell_type": "code",
   "execution_count": 21,
   "id": "bfe8093e",
   "metadata": {},
   "outputs": [
    {
     "name": "stdout",
     "output_type": "stream",
     "text": [
      "(20, 1)\n"
     ]
    }
   ],
   "source": [
    "raw_data_test = pd.read_csv(path_test)\n",
    "data_test = raw_data_test.iloc[:,1:2].values #dataframe values to numpy array\n",
    "data_test\n",
    "print(data_test.shape)"
   ]
  },
  {
   "cell_type": "code",
   "execution_count": 22,
   "id": "16384b81",
   "metadata": {},
   "outputs": [
    {
     "data": {
      "text/plain": [
       "(1278,)"
      ]
     },
     "execution_count": 22,
     "metadata": {},
     "output_type": "execute_result"
    }
   ],
   "source": [
    "data_total = pd.concat((raw_data_train[\"Open\"], raw_data_test[\"Open\"]), axis=0)\n",
    "data_total.shape"
   ]
  },
  {
   "cell_type": "code",
   "execution_count": 23,
   "id": "0174b48b",
   "metadata": {},
   "outputs": [
    {
     "name": "stderr",
     "output_type": "stream",
     "text": [
      "/var/folders/tt/q4hqdtbs24gdc3d6ts_l8_3w0000gn/T/ipykernel_18347/3009435234.py:1: FutureWarning: The behavior of `series[i:j]` with an integer-dtype index is deprecated. In a future version, this will be treated as *label-based* indexing, consistent with e.g. `series[i]` lookups. To retain the old behavior, use `series.iloc[i:j]`. To get the future behavior, use `series.loc[i:j]`.\n",
      "  inputs = data_total[(len(data_total) - len(raw_data_test) - 60):].values\n"
     ]
    }
   ],
   "source": [
    "inputs = data_total[(len(data_total) - len(raw_data_test) - 60):].values\n",
    "inputs = inputs.reshape(-1,1)\n",
    "inputs = sc.transform(inputs)"
   ]
  },
  {
   "cell_type": "markdown",
   "id": "932d0843",
   "metadata": {},
   "source": [
    "#### For each observation of Jan 2017 stock price, I have 60 previous stock prices that are needed to predict the next stock price"
   ]
  },
  {
   "cell_type": "code",
   "execution_count": 24,
   "id": "9494545f",
   "metadata": {},
   "outputs": [
    {
     "name": "stdout",
     "output_type": "stream",
     "text": [
      "1/1 [==============================] - 2s 2s/step\n"
     ]
    }
   ],
   "source": [
    "X_test = [] \n",
    "for i in range(60, 80): # test data has only 20 financial days i.e 60+20\n",
    "    X_test.append(inputs[i-60:i,0])\n",
    "    \n",
    "X_test = np.array(X_test)\n",
    "X_test = np.reshape(X_test, (X_test.shape[0], X_test.shape[1], 1)) # converting to the 3D vector\n",
    "# print(X_test.shape)\n",
    "\n",
    "predicted_data_test = regressor.predict(X_test)\n",
    "predicted_data_test = sc.inverse_transform(predicted_data_test)"
   ]
  },
  {
   "cell_type": "code",
   "execution_count": 25,
   "id": "2cf27dc0",
   "metadata": {
    "scrolled": true
   },
   "outputs": [
    {
     "data": {
      "text/plain": [
       "array([[780.4749 ],\n",
       "       [777.9171 ],\n",
       "       [777.4304 ],\n",
       "       [778.222  ],\n",
       "       [780.9316 ],\n",
       "       [786.1014 ],\n",
       "       [791.5133 ],\n",
       "       [794.6236 ],\n",
       "       [795.751  ],\n",
       "       [795.7815 ],\n",
       "       [795.4088 ],\n",
       "       [794.90735],\n",
       "       [794.5032 ],\n",
       "       [794.7463 ],\n",
       "       [795.52545],\n",
       "       [799.28796],\n",
       "       [805.4826 ],\n",
       "       [812.7293 ],\n",
       "       [817.67053],\n",
       "       [815.7987 ]], dtype=float32)"
      ]
     },
     "execution_count": 25,
     "metadata": {},
     "output_type": "execute_result"
    }
   ],
   "source": [
    "predicted_data_test"
   ]
  },
  {
   "cell_type": "markdown",
   "id": "7f7df8ae",
   "metadata": {},
   "source": [
    "### 6) Visualizing the results"
   ]
  },
  {
   "cell_type": "code",
   "execution_count": 26,
   "id": "b6da360c",
   "metadata": {},
   "outputs": [
    {
     "data": {
      "image/png": "[encoded data removed]",
      "text/plain": [
       "<Figure size 640x480 with 1 Axes>"
      ]
     },
     "metadata": {},
     "output_type": "display_data"
    }
   ],
   "source": [
    "plt.plot(data_test, color = 'Green', label = 'Real Google Stock Price')\n",
    "plt.plot(predicted_data_test, color = 'Purple', label = 'Predicted Google Stock Price')\n",
    "plt.title('Google Stock Price Prediction')\n",
    "plt.xlabel('Time')\n",
    "plt.ylabel('Google Stock Price')\n",
    "plt.legend()\n",
    "plt.show()"
   ]
  }
 ],
 "metadata": {
  "kernelspec": {
   "display_name": "Python 3 (ipykernel)",
   "language": "python",
   "name": "python3"
  },
  "language_info": {
   "codemirror_mode": {
    "name": "ipython",
    "version": 3
   },
   "file_extension": ".py",
   "mimetype": "text/x-python",
   "name": "python",
   "nbconvert_exporter": "python",
   "pygments_lexer": "ipython3",
   "version": "3.9.6"
  }
 },
 "nbformat": 4,
 "nbformat_minor": 5
}
